{
 "cells": [
  {
   "cell_type": "code",
   "execution_count": 11,
   "id": "67e90041",
   "metadata": {},
   "outputs": [
    {
     "data": {
      "image/png": "[encoded data removed]",
      "text/plain": [
       "<Figure size 360x360 with 1 Axes>"
      ]
     },
     "metadata": {
      "needs_background": "light"
     },
     "output_type": "display_data"
    }
   ],
   "source": [
    "import matplotlib.pyplot as plt\n",
    "import numpy as np\n",
    "import database\n",
    "\n",
    "plt.style.use('_mpl-gallery')\n",
    "\n",
    "# make data\n",
    "con = database.get_connection()\n",
    "cur = database.get_cursor(con)\n",
    "\n",
    "database.sql_statement(cur,'''SELECT order_time from Orders ORDER BY order_time''')\n",
    "a = cur.fetchall()\n",
    "dates = {}\n",
    "for i in a:\n",
    "       if i[0].date() in dates.keys():\n",
    "              dates[i[0].date()] +=1\n",
    "       else:\n",
    "            dates[i[0].date()] = 1\n",
    "\n",
    "x = []\n",
    "for i in dates.keys():\n",
    "       x.append(str(i))\n",
    "\n",
    "y = []\n",
    "for i in dates.values():\n",
    "       y.append(int(i))\n",
    "\n",
    "\n",
    "database.sql_statement(cur,'''SELECT DATE(order_time)as date, count(*) as total from Orders group by order_time''')\n",
    "data = cur.fetchall()\n",
    "\n",
    "\n",
    "\n",
    "# plot\n",
    "\n",
    "plt.figure(figsize=(5,5))\n",
    "\n",
    "\n",
    "plt.bar(x, y,)\n",
    "\n",
    "plt.title('no. Orders by Date')\n",
    "\n",
    "plt.ylabel('no. Orders')\n",
    "\n",
    "plt.xlabel('Dates')\n",
    "\n",
    "plt.show()\n",
    "\n",
    "database.close_cursor(cur)\n",
    "database.close_connection(con)"
   ]
  },
  {
   "cell_type": "code",
   "execution_count": null,
   "id": "7867c1fe",
   "metadata": {},
   "outputs": [],
   "source": []
  }
 ],
 "metadata": {
  "kernelspec": {
   "display_name": "Python 3.9.1 ('venv': venv)",
   "language": "python",
   "name": "python3"
  },
  "language_info": {
   "codemirror_mode": {
    "name": "ipython",
    "version": 3
   },
   "file_extension": ".py",
   "mimetype": "text/x-python",
   "name": "python",
   "nbconvert_exporter": "python",
   "pygments_lexer": "ipython3",
   "version": "3.10.4"
  },
  "vscode": {
   "interpreter": {
    "hash": "9b31425a492a5ca5aa000a970fecaf19429dedfd22046d188bea6f1a35b5c565"
   }
  }
 },
 "nbformat": 4,
 "nbformat_minor": 5
}
