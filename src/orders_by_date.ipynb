{
 "cells": [
  {
   "cell_type": "code",
   "execution_count": 1,
   "id": "67e90041",
   "metadata": {},
   "outputs": [
    {
     "ename": "ProgrammingError",
     "evalue": "(1146, \"Table 'academy.Orders' doesn't exist\")",
     "output_type": "error",
     "traceback": [
      "\u001b[1;31m---------------------------------------------------------------------------\u001b[0m",
      "\u001b[1;31mProgrammingError\u001b[0m                          Traceback (most recent call last)",
      "\u001b[1;32mc:\\sainburys\\Mini_Project\\src\\Untitled.ipynb Cell 1'\u001b[0m in \u001b[0;36m<cell line: 11>\u001b[1;34m()\u001b[0m\n\u001b[0;32m      <a href='vscode-notebook-cell:/c%3A/sainburys/Mini_Project/src/Untitled.ipynb#ch0000000?line=7'>8</a>\u001b[0m con \u001b[39m=\u001b[39m database\u001b[39m.\u001b[39mget_connection()\n\u001b[0;32m      <a href='vscode-notebook-cell:/c%3A/sainburys/Mini_Project/src/Untitled.ipynb#ch0000000?line=8'>9</a>\u001b[0m cur \u001b[39m=\u001b[39m database\u001b[39m.\u001b[39mget_cursor(con)\n\u001b[1;32m---> <a href='vscode-notebook-cell:/c%3A/sainburys/Mini_Project/src/Untitled.ipynb#ch0000000?line=10'>11</a>\u001b[0m database\u001b[39m.\u001b[39;49msql_statement(cur,\u001b[39m'''\u001b[39;49m\u001b[39mSELECT order_time from Orders ORDER BY order_time\u001b[39;49m\u001b[39m'''\u001b[39;49m)\n\u001b[0;32m     <a href='vscode-notebook-cell:/c%3A/sainburys/Mini_Project/src/Untitled.ipynb#ch0000000?line=11'>12</a>\u001b[0m a \u001b[39m=\u001b[39m cur\u001b[39m.\u001b[39mfetchall()\n\u001b[0;32m     <a href='vscode-notebook-cell:/c%3A/sainburys/Mini_Project/src/Untitled.ipynb#ch0000000?line=12'>13</a>\u001b[0m dates \u001b[39m=\u001b[39m {}\n",
      "File \u001b[1;32mc:\\sainburys\\Mini_Project\\src\\database.py:36\u001b[0m, in \u001b[0;36msql_statement\u001b[1;34m(c, sql)\u001b[0m\n\u001b[0;32m     35\u001b[0m \u001b[39mdef\u001b[39;00m \u001b[39msql_statement\u001b[39m(c,sql):\n\u001b[1;32m---> 36\u001b[0m     c\u001b[39m.\u001b[39;49mexecute(sql)\n",
      "File \u001b[1;32mc:\\sainburys\\Mini_Project\\venv\\lib\\site-packages\\pymysql\\cursors.py:163\u001b[0m, in \u001b[0;36mCursor.execute\u001b[1;34m(self, query, args)\u001b[0m\n\u001b[0;32m    159\u001b[0m     \u001b[39mpass\u001b[39;00m\n\u001b[0;32m    161\u001b[0m query \u001b[39m=\u001b[39m \u001b[39mself\u001b[39m\u001b[39m.\u001b[39mmogrify(query, args)\n\u001b[1;32m--> 163\u001b[0m result \u001b[39m=\u001b[39m \u001b[39mself\u001b[39;49m\u001b[39m.\u001b[39;49m_query(query)\n\u001b[0;32m    164\u001b[0m \u001b[39mself\u001b[39m\u001b[39m.\u001b[39m_executed \u001b[39m=\u001b[39m query\n\u001b[0;32m    165\u001b[0m \u001b[39mreturn\u001b[39;00m result\n",
      "File \u001b[1;32mc:\\sainburys\\Mini_Project\\venv\\lib\\site-packages\\pymysql\\cursors.py:321\u001b[0m, in \u001b[0;36mCursor._query\u001b[1;34m(self, q)\u001b[0m\n\u001b[0;32m    319\u001b[0m \u001b[39mself\u001b[39m\u001b[39m.\u001b[39m_last_executed \u001b[39m=\u001b[39m q\n\u001b[0;32m    320\u001b[0m \u001b[39mself\u001b[39m\u001b[39m.\u001b[39m_clear_result()\n\u001b[1;32m--> 321\u001b[0m conn\u001b[39m.\u001b[39;49mquery(q)\n\u001b[0;32m    322\u001b[0m \u001b[39mself\u001b[39m\u001b[39m.\u001b[39m_do_get_result()\n\u001b[0;32m    323\u001b[0m \u001b[39mreturn\u001b[39;00m \u001b[39mself\u001b[39m\u001b[39m.\u001b[39mrowcount\n",
      "File \u001b[1;32mc:\\sainburys\\Mini_Project\\venv\\lib\\site-packages\\pymysql\\connections.py:505\u001b[0m, in \u001b[0;36mConnection.query\u001b[1;34m(self, sql, unbuffered)\u001b[0m\n\u001b[0;32m    503\u001b[0m         sql \u001b[39m=\u001b[39m sql\u001b[39m.\u001b[39mencode(\u001b[39mself\u001b[39m\u001b[39m.\u001b[39mencoding, \u001b[39m'\u001b[39m\u001b[39msurrogateescape\u001b[39m\u001b[39m'\u001b[39m)\n\u001b[0;32m    504\u001b[0m \u001b[39mself\u001b[39m\u001b[39m.\u001b[39m_execute_command(COMMAND\u001b[39m.\u001b[39mCOM_QUERY, sql)\n\u001b[1;32m--> 505\u001b[0m \u001b[39mself\u001b[39m\u001b[39m.\u001b[39m_affected_rows \u001b[39m=\u001b[39m \u001b[39mself\u001b[39;49m\u001b[39m.\u001b[39;49m_read_query_result(unbuffered\u001b[39m=\u001b[39;49munbuffered)\n\u001b[0;32m    506\u001b[0m \u001b[39mreturn\u001b[39;00m \u001b[39mself\u001b[39m\u001b[39m.\u001b[39m_affected_rows\n",
      "File \u001b[1;32mc:\\sainburys\\Mini_Project\\venv\\lib\\site-packages\\pymysql\\connections.py:724\u001b[0m, in \u001b[0;36mConnection._read_query_result\u001b[1;34m(self, unbuffered)\u001b[0m\n\u001b[0;32m    722\u001b[0m \u001b[39melse\u001b[39;00m:\n\u001b[0;32m    723\u001b[0m     result \u001b[39m=\u001b[39m MySQLResult(\u001b[39mself\u001b[39m)\n\u001b[1;32m--> 724\u001b[0m     result\u001b[39m.\u001b[39;49mread()\n\u001b[0;32m    725\u001b[0m \u001b[39mself\u001b[39m\u001b[39m.\u001b[39m_result \u001b[39m=\u001b[39m result\n\u001b[0;32m    726\u001b[0m \u001b[39mif\u001b[39;00m result\u001b[39m.\u001b[39mserver_status \u001b[39mis\u001b[39;00m \u001b[39mnot\u001b[39;00m \u001b[39mNone\u001b[39;00m:\n",
      "File \u001b[1;32mc:\\sainburys\\Mini_Project\\venv\\lib\\site-packages\\pymysql\\connections.py:1069\u001b[0m, in \u001b[0;36mMySQLResult.read\u001b[1;34m(self)\u001b[0m\n\u001b[0;32m   1067\u001b[0m \u001b[39mdef\u001b[39;00m \u001b[39mread\u001b[39m(\u001b[39mself\u001b[39m):\n\u001b[0;32m   1068\u001b[0m     \u001b[39mtry\u001b[39;00m:\n\u001b[1;32m-> 1069\u001b[0m         first_packet \u001b[39m=\u001b[39m \u001b[39mself\u001b[39;49m\u001b[39m.\u001b[39;49mconnection\u001b[39m.\u001b[39;49m_read_packet()\n\u001b[0;32m   1071\u001b[0m         \u001b[39mif\u001b[39;00m first_packet\u001b[39m.\u001b[39mis_ok_packet():\n\u001b[0;32m   1072\u001b[0m             \u001b[39mself\u001b[39m\u001b[39m.\u001b[39m_read_ok_packet(first_packet)\n",
      "File \u001b[1;32mc:\\sainburys\\Mini_Project\\venv\\lib\\site-packages\\pymysql\\connections.py:676\u001b[0m, in \u001b[0;36mConnection._read_packet\u001b[1;34m(self, packet_type)\u001b[0m\n\u001b[0;32m    674\u001b[0m     \u001b[39mif\u001b[39;00m \u001b[39mself\u001b[39m\u001b[39m.\u001b[39m_result \u001b[39mis\u001b[39;00m \u001b[39mnot\u001b[39;00m \u001b[39mNone\u001b[39;00m \u001b[39mand\u001b[39;00m \u001b[39mself\u001b[39m\u001b[39m.\u001b[39m_result\u001b[39m.\u001b[39munbuffered_active \u001b[39mis\u001b[39;00m \u001b[39mTrue\u001b[39;00m:\n\u001b[0;32m    675\u001b[0m         \u001b[39mself\u001b[39m\u001b[39m.\u001b[39m_result\u001b[39m.\u001b[39munbuffered_active \u001b[39m=\u001b[39m \u001b[39mFalse\u001b[39;00m\n\u001b[1;32m--> 676\u001b[0m     packet\u001b[39m.\u001b[39;49mraise_for_error()\n\u001b[0;32m    677\u001b[0m \u001b[39mreturn\u001b[39;00m packet\n",
      "File \u001b[1;32mc:\\sainburys\\Mini_Project\\venv\\lib\\site-packages\\pymysql\\protocol.py:223\u001b[0m, in \u001b[0;36mMysqlPacket.raise_for_error\u001b[1;34m(self)\u001b[0m\n\u001b[0;32m    221\u001b[0m errno \u001b[39m=\u001b[39m \u001b[39mself\u001b[39m\u001b[39m.\u001b[39mread_uint16()\n\u001b[0;32m    222\u001b[0m \u001b[39mif\u001b[39;00m DEBUG: \u001b[39mprint\u001b[39m(\u001b[39m\"\u001b[39m\u001b[39merrno =\u001b[39m\u001b[39m\"\u001b[39m, errno)\n\u001b[1;32m--> 223\u001b[0m err\u001b[39m.\u001b[39;49mraise_mysql_exception(\u001b[39mself\u001b[39;49m\u001b[39m.\u001b[39;49m_data)\n",
      "File \u001b[1;32mc:\\sainburys\\Mini_Project\\venv\\lib\\site-packages\\pymysql\\err.py:107\u001b[0m, in \u001b[0;36mraise_mysql_exception\u001b[1;34m(data)\u001b[0m\n\u001b[0;32m    105\u001b[0m \u001b[39mif\u001b[39;00m errorclass \u001b[39mis\u001b[39;00m \u001b[39mNone\u001b[39;00m:\n\u001b[0;32m    106\u001b[0m     errorclass \u001b[39m=\u001b[39m InternalError \u001b[39mif\u001b[39;00m errno \u001b[39m<\u001b[39m \u001b[39m1000\u001b[39m \u001b[39melse\u001b[39;00m OperationalError\n\u001b[1;32m--> 107\u001b[0m \u001b[39mraise\u001b[39;00m errorclass(errno, errval)\n",
      "\u001b[1;31mProgrammingError\u001b[0m: (1146, \"Table 'academy.Orders' doesn't exist\")"
     ]
    }
   ],
   "source": [
    "import matplotlib.pyplot as plt\n",
    "import numpy as np\n",
    "import database\n",
    "\n",
    "plt.style.use('_mpl-gallery')\n",
    "\n",
    "# make data\n",
    "con = database.get_connection()\n",
    "cur = database.get_cursor(con)\n",
    "\n",
    "database.sql_statement(cur,'''SELECT order_time from Orders ORDER BY order_time''')\n",
    "a = cur.fetchall()\n",
    "dates = {}\n",
    "for i in a:\n",
    "       if i[0].date() in dates.keys():\n",
    "              dates[i[0].date()] +=1\n",
    "       else:\n",
    "            dates[i[0].date()] = 1\n",
    "\n",
    "x = []\n",
    "for i in dates.keys():\n",
    "       x.append(str(i))\n",
    "\n",
    "y = []\n",
    "for i in dates.values():\n",
    "       y.append(int(i))\n",
    "\n",
    "\n",
    "database.sql_statement(cur,'''SELECT DATE(order_time)as date, count(*) as total from Orders group by order_time''')\n",
    "data = cur.fetchall()\n",
    "\n",
    "\n",
    "\n",
    "# plot\n",
    "\n",
    "plt.figure(figsize=(5,5))\n",
    "\n",
    "plt.bar(x, y)\n",
    "\n",
    "\n",
    "\n",
    "plt.show()\n",
    "\n",
    "database.close_cursor(cur)\n",
    "database.close_connection(con)"
   ]
  },
  {
   "cell_type": "code",
   "execution_count": 10,
   "id": "ceba90ea",
   "metadata": {},
   "outputs": [
    {
     "data": {
      "text/plain": [
       "<BarContainer object of 2 artists>"
      ]
     },
     "execution_count": 10,
     "metadata": {},
     "output_type": "execute_result"
    },
    {
     "data": {
      "image/png": "[encoded data removed]",
      "text/plain": [
       "<Figure size 720x720 with 1 Axes>"
      ]
     },
     "metadata": {
      "needs_background": "light"
     },
     "output_type": "display_data"
    }
   ],
   "source": [
    "x = [datetime.date(2022, 6, 16),datetime.date(2022, 6, 17)]\n",
    "x = ['16-6-2022','17-6-2022']\n",
    "y = [2,3]\n",
    "plt.figure(figsize=(10,10))\n",
    "plt.bar(x, y)"
   ]
  },
  {
   "cell_type": "code",
   "execution_count": null,
   "id": "7867c1fe",
   "metadata": {},
   "outputs": [],
   "source": []
  }
 ],
 "metadata": {
  "kernelspec": {
   "display_name": "Python 3.9.1 ('venv': venv)",
   "language": "python",
   "name": "python3"
  },
  "language_info": {
   "codemirror_mode": {
    "name": "ipython",
    "version": 3
   },
   "file_extension": ".py",
   "mimetype": "text/x-python",
   "name": "python",
   "nbconvert_exporter": "python",
   "pygments_lexer": "ipython3",
   "version": "3.9.1"
  },
  "vscode": {
   "interpreter": {
    "hash": "9b31425a492a5ca5aa000a970fecaf19429dedfd22046d188bea6f1a35b5c565"
   }
  }
 },
 "nbformat": 4,
 "nbformat_minor": 5
}
